{
 "cells": [
  {
   "cell_type": "markdown",
   "metadata": {},
   "source": [
    "# Tunisia Real Estate Analysis"
   ]
  },
  {
   "cell_type": "markdown",
   "metadata": {},
   "source": [
    "## Data exploration:"
   ]
  },
  {
   "cell_type": "markdown",
   "metadata": {},
   "source": [
    "### loading the dataset"
   ]
  },
  {
   "cell_type": "code",
   "execution_count": 1,
   "metadata": {
    "vscode": {
     "languageId": "r"
    }
   },
   "outputs": [],
   "source": [
    "data <- read.csv(\"dataset/tunisia-real-estate.csv\", stringsAsFactors = FALSE)"
   ]
  },
  {
   "cell_type": "markdown",
   "metadata": {},
   "source": [
    "### Viewing the structure of the dataset:"
   ]
  },
  {
   "cell_type": "code",
   "execution_count": 2,
   "metadata": {
    "vscode": {
     "languageId": "r"
    }
   },
   "outputs": [
    {
     "data": {
      "text/html": [
       "<table class=\"dataframe\">\n",
       "<caption>A data.frame: 6 × 8</caption>\n",
       "<thead>\n",
       "\t<tr><th></th><th scope=col>Governorate</th><th scope=col>Delegation</th><th scope=col>Locality</th><th scope=col>Nature</th><th scope=col>Type.of.Real.Estate</th><th scope=col>Surface</th><th scope=col>Price</th><th scope=col>Inserted.On</th></tr>\n",
       "\t<tr><th></th><th scope=col>&lt;chr&gt;</th><th scope=col>&lt;chr&gt;</th><th scope=col>&lt;chr&gt;</th><th scope=col>&lt;chr&gt;</th><th scope=col>&lt;chr&gt;</th><th scope=col>&lt;dbl&gt;</th><th scope=col>&lt;dbl&gt;</th><th scope=col>&lt;chr&gt;</th></tr>\n",
       "</thead>\n",
       "<tbody>\n",
       "\t<tr><th scope=row>1</th><td>Tunis </td><td>Sidi El Bechir</td><td>Sidi El Bechir</td><td>Sale  </td><td>2-room apartment</td><td> 70</td><td>120000</td><td>06/10/2023</td></tr>\n",
       "\t<tr><th scope=row>2</th><td>Sousse</td><td>Akouda        </td><td>Akouda        </td><td>Sale  </td><td>2-room apartment</td><td> 74</td><td>230000</td><td>05/10/2023</td></tr>\n",
       "\t<tr><th scope=row>3</th><td>Tunis </td><td>La Marsa      </td><td>La Marsa      </td><td>Rental</td><td>Houses          </td><td>400</td><td>  6500</td><td>30/10/2023</td></tr>\n",
       "\t<tr><th scope=row>4</th><td>Tunis </td><td>Carthage      </td><td>Carthage      </td><td>Rental</td><td>Surfaces        </td><td>180</td><td>  1400</td><td>02/11/2023</td></tr>\n",
       "\t<tr><th scope=row>5</th><td>Sousse</td><td>Hammam Sousse </td><td>Hammam Sousse </td><td>Sale  </td><td>3-room apartment</td><td>145</td><td>160000</td><td>26/06/2022</td></tr>\n",
       "\t<tr><th scope=row>6</th><td>Tunis </td><td>La Marsa      </td><td>La Marsa      </td><td>Rental</td><td>2-room apartment</td><td>120</td><td>  1500</td><td>18/09/2023</td></tr>\n",
       "</tbody>\n",
       "</table>\n"
      ],
      "text/latex": [
       "A data.frame: 6 × 8\n",
       "\\begin{tabular}{r|llllllll}\n",
       "  & Governorate & Delegation & Locality & Nature & Type.of.Real.Estate & Surface & Price & Inserted.On\\\\\n",
       "  & <chr> & <chr> & <chr> & <chr> & <chr> & <dbl> & <dbl> & <chr>\\\\\n",
       "\\hline\n",
       "\t1 & Tunis  & Sidi El Bechir & Sidi El Bechir & Sale   & 2-room apartment &  70 & 120000 & 06/10/2023\\\\\n",
       "\t2 & Sousse & Akouda         & Akouda         & Sale   & 2-room apartment &  74 & 230000 & 05/10/2023\\\\\n",
       "\t3 & Tunis  & La Marsa       & La Marsa       & Rental & Houses           & 400 &   6500 & 30/10/2023\\\\\n",
       "\t4 & Tunis  & Carthage       & Carthage       & Rental & Surfaces         & 180 &   1400 & 02/11/2023\\\\\n",
       "\t5 & Sousse & Hammam Sousse  & Hammam Sousse  & Sale   & 3-room apartment & 145 & 160000 & 26/06/2022\\\\\n",
       "\t6 & Tunis  & La Marsa       & La Marsa       & Rental & 2-room apartment & 120 &   1500 & 18/09/2023\\\\\n",
       "\\end{tabular}\n"
      ],
      "text/markdown": [
       "\n",
       "A data.frame: 6 × 8\n",
       "\n",
       "| <!--/--> | Governorate &lt;chr&gt; | Delegation &lt;chr&gt; | Locality &lt;chr&gt; | Nature &lt;chr&gt; | Type.of.Real.Estate &lt;chr&gt; | Surface &lt;dbl&gt; | Price &lt;dbl&gt; | Inserted.On &lt;chr&gt; |\n",
       "|---|---|---|---|---|---|---|---|---|\n",
       "| 1 | Tunis  | Sidi El Bechir | Sidi El Bechir | Sale   | 2-room apartment |  70 | 120000 | 06/10/2023 |\n",
       "| 2 | Sousse | Akouda         | Akouda         | Sale   | 2-room apartment |  74 | 230000 | 05/10/2023 |\n",
       "| 3 | Tunis  | La Marsa       | La Marsa       | Rental | Houses           | 400 |   6500 | 30/10/2023 |\n",
       "| 4 | Tunis  | Carthage       | Carthage       | Rental | Surfaces         | 180 |   1400 | 02/11/2023 |\n",
       "| 5 | Sousse | Hammam Sousse  | Hammam Sousse  | Sale   | 3-room apartment | 145 | 160000 | 26/06/2022 |\n",
       "| 6 | Tunis  | La Marsa       | La Marsa       | Rental | 2-room apartment | 120 |   1500 | 18/09/2023 |\n",
       "\n"
      ],
      "text/plain": [
       "  Governorate Delegation     Locality       Nature Type.of.Real.Estate Surface\n",
       "1 Tunis       Sidi El Bechir Sidi El Bechir Sale   2-room apartment     70    \n",
       "2 Sousse      Akouda         Akouda         Sale   2-room apartment     74    \n",
       "3 Tunis       La Marsa       La Marsa       Rental Houses              400    \n",
       "4 Tunis       Carthage       Carthage       Rental Surfaces            180    \n",
       "5 Sousse      Hammam Sousse  Hammam Sousse  Sale   3-room apartment    145    \n",
       "6 Tunis       La Marsa       La Marsa       Rental 2-room apartment    120    \n",
       "  Price  Inserted.On\n",
       "1 120000 06/10/2023 \n",
       "2 230000 05/10/2023 \n",
       "3   6500 30/10/2023 \n",
       "4   1400 02/11/2023 \n",
       "5 160000 26/06/2022 \n",
       "6   1500 18/09/2023 "
      ]
     },
     "metadata": {},
     "output_type": "display_data"
    },
    {
     "name": "stdout",
     "output_type": "stream",
     "text": [
      "'data.frame':\t25317 obs. of  8 variables:\n",
      " $ Governorate        : chr  \"Tunis\" \"Sousse\" \"Tunis\" \"Tunis\" ...\n",
      " $ Delegation         : chr  \"Sidi El Bechir\" \"Akouda\" \"La Marsa\" \"Carthage\" ...\n",
      " $ Locality           : chr  \"Sidi El Bechir\" \"Akouda\" \"La Marsa\" \"Carthage\" ...\n",
      " $ Nature             : chr  \"Sale\" \"Sale\" \"Rental\" \"Rental\" ...\n",
      " $ Type.of.Real.Estate: chr  \"2-room apartment\" \"2-room apartment\" \"Houses\" \"Surfaces\" ...\n",
      " $ Surface            : num  70 74 400 180 145 ...\n",
      " $ Price              : num  120000 230000 6500 1400 160000 1500 300 570000 150 650 ...\n",
      " $ Inserted.On        : chr  \"06/10/2023\" \"05/10/2023\" \"30/10/2023\" \"02/11/2023\" ...\n"
     ]
    }
   ],
   "source": [
    "# View the first few rows of the dataset\n",
    "head(data)\n",
    "\n",
    "# View the structure of the dataset\n",
    "str(data)"
   ]
  },
  {
   "cell_type": "markdown",
   "metadata": {},
   "source": [
    "### Summary statistics:"
   ]
  },
  {
   "cell_type": "code",
   "execution_count": 3,
   "metadata": {
    "vscode": {
     "languageId": "r"
    }
   },
   "outputs": [
    {
     "data": {
      "text/plain": [
       "    Min.  1st Qu.   Median     Mean  3rd Qu.     Max. \n",
       "       2     1500   100000   422246   428000 16000000 "
      ]
     },
     "metadata": {},
     "output_type": "display_data"
    },
    {
     "data": {
      "text/plain": [
       "\n",
       "     Ariana        Beja   Ben arous     Bizerte       Gabes       Gafsa \n",
       "       4605          86        2458         500          54          34 \n",
       "   Jendouba    Kairouan   Kasserine      Kebili      Le Kef      Mahdia \n",
       "         35          18          13           3          69          95 \n",
       "    Manouba    Medenine    Monastir      Nabeul        Sfax Sidi bouzid \n",
       "        512         153         167        5878         452          22 \n",
       "    Siliana      Sousse   Tataouine      Tozeur       Tunis    Zaghouan \n",
       "         25        1378           6           9        8561         184 "
      ]
     },
     "metadata": {},
     "output_type": "display_data"
    }
   ],
   "source": [
    "# Summary statistics for numerical variables\n",
    "summary(data$Price)\n",
    "\n",
    "# Summary statistics for categorical variables\n",
    "table(data$Governorate)"
   ]
  },
  {
   "cell_type": "markdown",
   "metadata": {},
   "source": [
    "## Data cleaning:"
   ]
  },
  {
   "cell_type": "markdown",
   "metadata": {},
   "source": [
    "### Checking for missing values:"
   ]
  },
  {
   "cell_type": "code",
   "execution_count": 4,
   "metadata": {
    "vscode": {
     "languageId": "r"
    }
   },
   "outputs": [
    {
     "data": {
      "text/html": [
       "FALSE"
      ],
      "text/latex": [
       "FALSE"
      ],
      "text/markdown": [
       "FALSE"
      ],
      "text/plain": [
       "[1] FALSE"
      ]
     },
     "metadata": {},
     "output_type": "display_data"
    },
    {
     "data": {
      "text/html": [
       "<style>\n",
       ".dl-inline {width: auto; margin:0; padding: 0}\n",
       ".dl-inline>dt, .dl-inline>dd {float: none; width: auto; display: inline-block}\n",
       ".dl-inline>dt::after {content: \":\\0020\"; padding-right: .5ex}\n",
       ".dl-inline>dt:not(:first-of-type) {padding-left: .5ex}\n",
       "</style><dl class=dl-inline><dt>Governorate</dt><dd>0</dd><dt>Delegation</dt><dd>0</dd><dt>Locality</dt><dd>0</dd><dt>Nature</dt><dd>0</dd><dt>Type.of.Real.Estate</dt><dd>0</dd><dt>Surface</dt><dd>0</dd><dt>Price</dt><dd>0</dd><dt>Inserted.On</dt><dd>0</dd></dl>\n"
      ],
      "text/latex": [
       "\\begin{description*}\n",
       "\\item[Governorate] 0\n",
       "\\item[Delegation] 0\n",
       "\\item[Locality] 0\n",
       "\\item[Nature] 0\n",
       "\\item[Type.of.Real.Estate] 0\n",
       "\\item[Surface] 0\n",
       "\\item[Price] 0\n",
       "\\item[Inserted.On] 0\n",
       "\\end{description*}\n"
      ],
      "text/markdown": [
       "Governorate\n",
       ":   0Delegation\n",
       ":   0Locality\n",
       ":   0Nature\n",
       ":   0Type.of.Real.Estate\n",
       ":   0Surface\n",
       ":   0Price\n",
       ":   0Inserted.On\n",
       ":   0\n",
       "\n"
      ],
      "text/plain": [
       "        Governorate          Delegation            Locality              Nature \n",
       "                  0                   0                   0                   0 \n",
       "Type.of.Real.Estate             Surface               Price         Inserted.On \n",
       "                  0                   0                   0                   0 "
      ]
     },
     "metadata": {},
     "output_type": "display_data"
    }
   ],
   "source": [
    "# Check for missing values in the entire dataset\n",
    "any(is.na(data))\n",
    "\n",
    "# Check for missing values in specific columns\n",
    "colSums(is.na(data))"
   ]
  },
  {
   "cell_type": "markdown",
   "metadata": {},
   "source": [
    "### Checking for duplicates:"
   ]
  },
  {
   "cell_type": "code",
   "execution_count": 5,
   "metadata": {
    "vscode": {
     "languageId": "r"
    }
   },
   "outputs": [],
   "source": [
    "# Check for duplicated rows\n",
    "duplicated_rows <- data[duplicated(data), ]"
   ]
  },
  {
   "cell_type": "markdown",
   "metadata": {},
   "source": [
    "### Rmeoving duplicates:"
   ]
  },
  {
   "cell_type": "code",
   "execution_count": 6,
   "metadata": {
    "vscode": {
     "languageId": "r"
    }
   },
   "outputs": [],
   "source": [
    "# Remove duplicated rows\n",
    "data <- unique(data)"
   ]
  },
  {
   "cell_type": "markdown",
   "metadata": {},
   "source": [
    "### Converting data types:"
   ]
  },
  {
   "cell_type": "code",
   "execution_count": 7,
   "metadata": {
    "vscode": {
     "languageId": "r"
    }
   },
   "outputs": [],
   "source": [
    "# Convert columns to appropriate data types\n",
    "data$Price <- as.numeric(data$Price)\n",
    "# Convert Date/Time columns\n",
    "data$Inserted.On <- as.POSIXct(data$Inserted.On, format = \"%Y-%m-%d %H:%M:%S\")"
   ]
  },
  {
   "cell_type": "markdown",
   "metadata": {},
   "source": [
    "## Descriptive Analysis:"
   ]
  },
  {
   "cell_type": "markdown",
   "metadata": {},
   "source": [
    "### importing libraries"
   ]
  },
  {
   "cell_type": "code",
   "execution_count": 11,
   "metadata": {
    "vscode": {
     "languageId": "r"
    }
   },
   "outputs": [
    {
     "name": "stderr",
     "output_type": "stream",
     "text": [
      "Warning message:\n",
      "\"package 'ggplot2' was built under R version 4.3.3\"\n"
     ]
    }
   ],
   "source": [
    "library(ggplot2)"
   ]
  },
  {
   "cell_type": "markdown",
   "metadata": {},
   "source": [
    "### Summary Statistics for Price Variable:"
   ]
  },
  {
   "cell_type": "code",
   "execution_count": 8,
   "metadata": {
    "vscode": {
     "languageId": "r"
    }
   },
   "outputs": [
    {
     "data": {
      "text/plain": [
       "    Min.  1st Qu.   Median     Mean  3rd Qu.     Max. \n",
       "       2     1500   100000   422246   428000 16000000 "
      ]
     },
     "metadata": {},
     "output_type": "display_data"
    }
   ],
   "source": [
    "# Summary statistics for price\n",
    "summary(data$Price)"
   ]
  },
  {
   "cell_type": "markdown",
   "metadata": {},
   "source": [
    "### Frequency Table for Categorical Variables (Governorate, Delegation, Locality):"
   ]
  },
  {
   "cell_type": "code",
   "execution_count": 9,
   "metadata": {
    "vscode": {
     "languageId": "r"
    }
   },
   "outputs": [
    {
     "name": "stdout",
     "output_type": "stream",
     "text": [
      "\n",
      "     Ariana        Beja   Ben arous     Bizerte       Gabes       Gafsa \n",
      "       4605          86        2458         500          54          34 \n",
      "   Jendouba    Kairouan   Kasserine      Kebili      Le Kef      Mahdia \n",
      "         35          18          13           3          69          95 \n",
      "    Manouba    Medenine    Monastir      Nabeul        Sfax Sidi bouzid \n",
      "        512         153         167        5878         452          22 \n",
      "    Siliana      Sousse   Tataouine      Tozeur       Tunis    Zaghouan \n",
      "         25        1378           6           9        8561         184 \n",
      "\n",
      "                Agareb             Ain Draham           Ain Zaghouan \n",
      "                     6                      2                   1245 \n",
      "                Akouda           Ariana Ville               Bab Bhar \n",
      "                   270                   2122                    788 \n",
      "            Bab Souika                 Bargou              Beja Nord \n",
      "                    67                      1                     18 \n",
      "               Bekalta                 Bembla              Ben Arous \n",
      "                     3                      1                    248 \n",
      "           Beni Hassen           Beni Khalled             Beni Khiar \n",
      "                     2                     17                    303 \n",
      "   Bir Ali Ben Khelifa             Bir Lahmar            Bir Mcherga \n",
      "                     1                      2                     80 \n",
      "          Bizerte Nord            Bizerte Sud           Borj El Amri \n",
      "                   316                     16                     21 \n",
      "            Bou Argoub              Bou Ficha  Bou Mhel El Bassatine \n",
      "                    32                     49                    265 \n",
      "             Bou Salem               Carthage                Chebika \n",
      "                     3                    341                      2 \n",
      "        Cite El Khadra                Dahmani   Dar Chaabane Elfehri \n",
      "                   346                      1                    108 \n",
      "Djerba - Houmet Essouk        Djerba - Midoun           Douar Hicher \n",
      "                    82                     55                      7 \n",
      "               El Alia             El Aroussa              El Battan \n",
      "                    12                      8                      3 \n",
      "               El Fahs              El Faouar               El Hamma \n",
      "                    21                      1                      5 \n",
      "           El Haouaria              El Hencha             El Hrairia \n",
      "                   166                      4                     30 \n",
      "                El Jem            El Kabbaria                El Kram \n",
      "                     1                     27                    239 \n",
      "               El Ksar               El Ksour              El Menzah \n",
      "                     5                      1                   1030 \n",
      "               El Mida             El Mourouj              El Omrane \n",
      "                     1                    509                     47 \n",
      "   El Omrane Superieur             El Ouerdia                Enfidha \n",
      "                   140                     82                     13 \n",
      "             Ennadhour              Essijoumi               Esskhira \n",
      "                     1                      4                      7 \n",
      "            Ettadhamen               Ettahrir                Ezzahra \n",
      "                    14                     25                    199 \n",
      " Ezzouhour (Kasserine)      Ezzouhour (Tunis)               Fouchana \n",
      "                     1                     20                    106 \n",
      "               Gaafour           Gabes Medina            Gabes Ouest \n",
      "                     2                      6                      2 \n",
      "             Gabes Sud              Gafsa Sud             Ghannouche \n",
      "                    36                     15                      2 \n",
      "          Ghar El Melh             Ghardimaou             Ghomrassen \n",
      "                    21                      1                      1 \n",
      "             Goubellat              Grombalia         Hajeb El Ayoun \n",
      "                     4                     41                      3 \n",
      "          Hammam Chatt       Hammam El Ghezaz             Hammam Lif \n",
      "                   216                    431                    126 \n",
      "         Hammam Sousse           Hammam Zriba               Hammamet \n",
      "                   300                      9                   3245 \n",
      "                Hergla                 Hezoua               Jarzouna \n",
      "                    89                      1                      5 \n",
      "         Jebel Jelloud              Jebeniana                Jedaida \n",
      "                     5                      3                     36 \n",
      "                Jemmal               Jendouba          Jendouba Nord \n",
      "                     3                      7                      1 \n",
      "                 Jilma                Joumine          Kairouan Nord \n",
      "                     1                      1                      5 \n",
      "          Kairouan Sud        Kalaa El Kebira         Kalaa Essghira \n",
      "                     7                     52                     66 \n",
      "       Kalaat Landlous          Kalaat Sinane         Kasserine Nord \n",
      "                    13                      1                      8 \n",
      "         Kasserine Sud            Kebili Nord             Kebili Sud \n",
      "                     2                      1                      1 \n",
      "               Kelibia               Kerkenah                 Kondar \n",
      "                   687                     11                      1 \n",
      "                 Korba             Ksar Helal     Ksibet El Mediouni \n",
      "                    68                      4                      4 \n",
      "           Ksour Essaf              La Chebba            La Goulette \n",
      "                     6                      7                    131 \n",
      "              La Marsa              La Medina              La Soukra \n",
      "                  3508                     50                   1375 \n",
      "              Le Bardo             Le Kef Est           Le Kef Ouest \n",
      "                   315                     45                     17 \n",
      "               Le Krib                Le Sers                 Mahdia \n",
      "                     2                      1                     81 \n",
      "                Mahras               Maknassy                Makthar \n",
      "                     9                      2                      2 \n",
      "              Mannouba                 Mareth                 Mateur \n",
      "                   349                      1                      9 \n",
      "         Medenine Nord           Medenine Sud                Megrine \n",
      "                     7                      2                    141 \n",
      "       Mejel Bel Abbes           Mejez El Bab       Menzel Bourguiba \n",
      "                     1                     28                     17 \n",
      "       Menzel Bouzelfa          Menzel Chaker           Menzel Habib \n",
      "                    15                     10                      2 \n",
      "          Menzel Jemil          Menzel Temime               Mezzouna \n",
      "                    20                     30                      6 \n",
      "                Mnihla              Mohamadia                Moknine \n",
      "                   398                     42                      9 \n",
      "              Monastir                 Mornag              Mornaguia \n",
      "                   116                    105                     48 \n",
      "                Msaken                 Nabeul        Nouvelle Medina \n",
      "                    22                    491                    219 \n",
      "            Oued Ellil             Ouerdanine                  Rades \n",
      "                    32                      1                    282 \n",
      "                Raoued              Ras Jebel                 Remada \n",
      "                   583                     66                      1 \n",
      "               Sahline         Sakiet Eddaier           Sakiet Ezzit \n",
      "                    13                     43                     53 \n",
      "Sayada Lamta Bou Hajar                Sbeitla                 Sbikha \n",
      "                     4                      1                      1 \n",
      "               Sejnane               Sfax Est               Sfax Sud \n",
      "                     1                      6                     86 \n",
      "            Sfax Ville              Sidi Aich           Sidi Bou Ali \n",
      "                   213                     13                     29 \n",
      "        Sidi Bou Rouis        Sidi Bouzid Est      Sidi Bouzid Ouest \n",
      "                     1                     10                      3 \n",
      "        Sidi El Bechir           Sidi El Heni           Sidi Hassine \n",
      "                    75                      1                     46 \n",
      "           Sidi Thabet           Siliana Nord            Siliana Sud \n",
      "                   100                      1                      8 \n",
      "                  Sned                Soliman        Sousse Jaouhara \n",
      "                     1                    129                    203 \n",
      "          Sousse Riadh           Sousse Ville                Tabarka \n",
      "                    98                    185                     21 \n",
      "            Tajerouine                Takelsa         Tataouine Nord \n",
      "                     3                    114                      2 \n",
      "              Teboulba               Tebourba             Teboursouk \n",
      "                     4                     16                      8 \n",
      "               Testour                  Tinja                 Tozeur \n",
      "                    28                      1                      8 \n",
      "                Utique               Zaghouan                 Zarzis \n",
      "                    15                     73                      7 \n",
      "             Zeramdine \n",
      "                     3 \n",
      "\n",
      "                Agareb             Ain Draham           Ain Zaghouan \n",
      "                     6                      2                   1245 \n",
      "                Akouda           Ariana Ville               Bab Bhar \n",
      "                   270                   2122                    788 \n",
      "            Bab Souika                 Bargou              Beja Nord \n",
      "                    67                      1                     18 \n",
      "               Bekalta                 Bembla              Ben Arous \n",
      "                     3                      1                    248 \n",
      "           Beni Hassen           Beni Khalled             Beni Khiar \n",
      "                     2                     17                    303 \n",
      "   Bir Ali Ben Khelifa             Bir Lahmar            Bir Mcherga \n",
      "                     1                      2                     80 \n",
      "          Bizerte Nord            Bizerte Sud           Borj El Amri \n",
      "                   316                     16                     21 \n",
      "            Bou Argoub              Bou Ficha  Bou Mhel El Bassatine \n",
      "                    32                     49                    265 \n",
      "             Bou Salem               Carthage                Chebika \n",
      "                     3                    341                      2 \n",
      "        Cite El Khadra                Dahmani   Dar Chaabane Elfehri \n",
      "                   346                      1                    108 \n",
      "Djerba - Houmet Essouk        Djerba - Midoun           Douar Hicher \n",
      "                    82                     55                      7 \n",
      "               El Alia             El Aroussa              El Battan \n",
      "                    12                      8                      3 \n",
      "               El Fahs              El Faouar               El Hamma \n",
      "                    21                      1                      5 \n",
      "           El Haouaria              El Hencha             El Hrairia \n",
      "                   166                      4                     30 \n",
      "                El Jem            El Kabbaria                El Kram \n",
      "                     1                     27                    239 \n",
      "               El Ksar               El Ksour              El Menzah \n",
      "                     5                      1                   1030 \n",
      "               El Mida             El Mourouj              El Omrane \n",
      "                     1                    509                     47 \n",
      "   El Omrane Superieur             El Ouerdia                Enfidha \n",
      "                   140                     82                     13 \n",
      "             Ennadhour              Essijoumi               Esskhira \n",
      "                     1                      4                      7 \n",
      "            Ettadhamen               Ettahrir                Ezzahra \n",
      "                    14                     25                    199 \n",
      " Ezzouhour (Kasserine)      Ezzouhour (Tunis)               Fouchana \n",
      "                     1                     20                    106 \n",
      "               Gaafour           Gabes Medina            Gabes Ouest \n",
      "                     2                      6                      2 \n",
      "             Gabes Sud              Gafsa Sud             Ghannouche \n",
      "                    36                     15                      2 \n",
      "          Ghar El Melh             Ghardimaou             Ghomrassen \n",
      "                    21                      1                      1 \n",
      "             Goubellat              Grombalia         Hajeb El Ayoun \n",
      "                     4                     41                      3 \n",
      "          Hammam Chatt       Hammam El Ghezaz             Hammam Lif \n",
      "                   216                    431                    126 \n",
      "         Hammam Sousse           Hammam Zriba               Hammamet \n",
      "                   300                      9                   3245 \n",
      "                Hergla                 Hezoua               Jarzouna \n",
      "                    89                      1                      5 \n",
      "         Jebel Jelloud              Jebeniana                Jedaida \n",
      "                     5                      3                     36 \n",
      "                Jemmal               Jendouba          Jendouba Nord \n",
      "                     3                      7                      1 \n",
      "                 Jilma                Joumine          Kairouan Nord \n",
      "                     1                      1                      5 \n",
      "          Kairouan Sud        Kalaa El Kebira         Kalaa Essghira \n",
      "                     7                     52                     66 \n",
      "       Kalaat Landlous          Kalaat Sinane         Kasserine Nord \n",
      "                    13                      1                      8 \n",
      "         Kasserine Sud            Kebili Nord             Kebili Sud \n",
      "                     2                      1                      1 \n",
      "               Kelibia               Kerkenah                 Kondar \n",
      "                   687                     11                      1 \n",
      "                 Korba             Ksar Helal     Ksibet El Mediouni \n",
      "                    68                      4                      4 \n",
      "           Ksour Essaf              La Chebba            La Goulette \n",
      "                     6                      7                    131 \n",
      "              La Marsa              La Medina              La Soukra \n",
      "                  3508                     50                   1375 \n",
      "              Le Bardo             Le Kef Est           Le Kef Ouest \n",
      "                   315                     45                     17 \n",
      "               Le Krib                Le Sers                 Mahdia \n",
      "                     2                      1                     81 \n",
      "                Mahras               Maknassy                Makthar \n",
      "                     9                      2                      2 \n",
      "              Mannouba                 Mareth                 Mateur \n",
      "                   349                      1                      9 \n",
      "         Medenine Nord           Medenine Sud                Megrine \n",
      "                     7                      2                    141 \n",
      "       Mejel Bel Abbes           Mejez El Bab       Menzel Bourguiba \n",
      "                     1                     28                     17 \n",
      "       Menzel Bouzelfa          Menzel Chaker           Menzel Habib \n",
      "                    15                     10                      2 \n",
      "          Menzel Jemil          Menzel Temime               Mezzouna \n",
      "                    20                     30                      6 \n",
      "                Mnihla              Mohamadia                Moknine \n",
      "                   398                     42                      9 \n",
      "              Monastir                 Mornag              Mornaguia \n",
      "                   116                    105                     48 \n",
      "                Msaken                 Nabeul        Nouvelle Medina \n",
      "                    22                    491                    219 \n",
      "            Oued Ellil             Ouerdanine                  Rades \n",
      "                    32                      1                    282 \n",
      "                Raoued              Ras Jebel                 Remada \n",
      "                   583                     66                      1 \n",
      "               Sahline         Sakiet Eddaier           Sakiet Ezzit \n",
      "                    13                     43                     53 \n",
      "Sayada Lamta Bou Hajar                Sbeitla                 Sbikha \n",
      "                     4                      1                      1 \n",
      "               Sejnane               Sfax Est               Sfax Sud \n",
      "                     1                      6                     86 \n",
      "            Sfax Ville              Sidi Aich           Sidi Bou Ali \n",
      "                   213                     13                     29 \n",
      "        Sidi Bou Rouis        Sidi Bouzid Est      Sidi Bouzid Ouest \n",
      "                     1                     10                      3 \n",
      "        Sidi El Bechir           Sidi El Heni           Sidi Hassine \n",
      "                    75                      1                     46 \n",
      "           Sidi Thabet           Siliana Nord            Siliana Sud \n",
      "                   100                      1                      8 \n",
      "                  Sned                Soliman        Sousse Jaouhara \n",
      "                     1                    129                    203 \n",
      "          Sousse Riadh           Sousse Ville                Tabarka \n",
      "                    98                    185                     21 \n",
      "            Tajerouine                Takelsa         Tataouine Nord \n",
      "                     3                    114                      2 \n",
      "              Teboulba               Tebourba             Teboursouk \n",
      "                     4                     16                      8 \n",
      "               Testour                  Tinja                 Tozeur \n",
      "                    28                      1                      8 \n",
      "                Utique               Zaghouan                 Zarzis \n",
      "                    15                     73                      7 \n",
      "             Zeramdine \n",
      "                     3 \n"
     ]
    }
   ],
   "source": [
    "# Frequency table for Governorate\n",
    "table_governorate <- table(data$Governorate)\n",
    "print(table_governorate)\n",
    "\n",
    "# Frequency table for Delegation\n",
    "table_delegation <- table(data$Delegation)\n",
    "print(table_delegation)\n",
    "\n",
    "# Frequency table for Locality\n",
    "table_locality <- table(data$Locality)\n",
    "print(table_locality)"
   ]
  },
  {
   "cell_type": "markdown",
   "metadata": {},
   "source": [
    "### Bar Plots for Categorical Variables (Governorate, Delegation, Locality):"
   ]
  },
  {
   "cell_type": "code",
   "execution_count": 24,
   "metadata": {
    "vscode": {
     "languageId": "r"
    }
   },
   "outputs": [],
   "source": [
    "# Bar plot for Governorate\n",
    "plot_governorate <- ggplot(data, aes(x = Governorate)) +\n",
    "  geom_bar() +\n",
    "  ggtitle(\"Frequency of Real Estate Transactions by Governorate\") +\n",
    "  xlab(\"Governorate\") +\n",
    "  ylab(\"Frequency\")\n",
    "\n",
    "# Save the bar plot for Governorate as an image\n",
    "ggsave(\"plots/bar_plot_governorate.png\", plot_governorate, width = 10, height = 6)\n",
    "\n",
    "# Bar plot for Delegation\n",
    "plot_delegation <- ggplot(data, aes(x = Delegation)) +\n",
    "  geom_bar() +\n",
    "  ggtitle(\"Frequency of Real Estate Transactions by Delegation\") +\n",
    "  xlab(\"Delegation\") +\n",
    "  ylab(\"Frequency\")\n",
    "\n",
    "# Save the bar plot for Delegation as an image\n",
    "ggsave(\"plots/bar_plot_delegation.png\", plot_delegation, width = 10, height = 6)\n",
    "\n",
    "# Bar plot for Locality\n",
    "plot_locality <- ggplot(data, aes(x = Locality)) +\n",
    "  geom_bar() +\n",
    "  ggtitle(\"Frequency of Real Estate Transactions by Locality\") +\n",
    "  xlab(\"Locality\") +\n",
    "  ylab(\"Frequency\") +\n",
    "  theme(axis.text.x = element_text(angle = 90, hjust = 1),\n",
    "  axis.title.x = element_text(size = 7, face = \"bold\"),\n",
    "  axis.title.y = element_text(size = 10, face = \"bold\"),\n",
    "  plot.title = element_text(size = 12, face = \"bold\"))\n",
    "\n",
    "# Save the bar plot for Locality as an image\n",
    "ggsave(\"plots/bar_plot_locality.png\", plot_locality, width = 10, height = 6)\n"
   ]
  },
  {
   "cell_type": "markdown",
   "metadata": {},
   "source": [
    "### Box Plot for Numerical Variable (Price) by Governorate:"
   ]
  },
  {
   "cell_type": "code",
   "execution_count": 22,
   "metadata": {
    "vscode": {
     "languageId": "r"
    }
   },
   "outputs": [],
   "source": [
    "# Create the box plot for Price by Governorate with smaller text size\n",
    "plot_price_governorate <- ggplot(data, aes(x = Governorate, y = Price)) +\n",
    "  geom_boxplot() +\n",
    "  ggtitle(\"Price Distribution by Governorate\") +\n",
    "  xlab(\"Governorate\") +\n",
    "  ylab(\"Price\") +\n",
    "  scale_y_continuous(labels = scales::comma) +\n",
    "  theme(axis.text = element_text(size = 7),  # Adjust text size for axis labels\n",
    "        axis.title = element_text(size = 10), # Adjust text size for axis titles\n",
    "        plot.title = element_text(size = 15)) # Adjust text size for plot title\n",
    "\n",
    "# Save the box plot with custom dimensions (e.g., width = 10 inches, height = 6 inches)\n",
    "ggsave(\"plots/box_plot_price_governorate.png\", plot_price_governorate, width = 12, height = 8)\n"
   ]
  }
 ],
 "metadata": {
  "kernelspec": {
   "display_name": "R",
   "language": "R",
   "name": "ir"
  },
  "language_info": {
   "codemirror_mode": "r",
   "file_extension": ".r",
   "mimetype": "text/x-r-source",
   "name": "R",
   "pygments_lexer": "r",
   "version": "4.3.2"
  }
 },
 "nbformat": 4,
 "nbformat_minor": 2
}
