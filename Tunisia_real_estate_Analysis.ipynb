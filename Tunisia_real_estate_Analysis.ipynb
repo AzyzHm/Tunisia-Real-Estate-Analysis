{
 "cells": [
  {
   "cell_type": "markdown",
   "metadata": {},
   "source": [
    "# Tunisia Real Estate Analysis"
   ]
  },
  {
   "cell_type": "markdown",
   "metadata": {},
   "source": [
    "## Importing Libraries:"
   ]
  },
  {
   "cell_type": "code",
   "execution_count": 2,
   "metadata": {
    "vscode": {
     "languageId": "r"
    }
   },
   "outputs": [
    {
     "name": "stderr",
     "output_type": "stream",
     "text": [
      "Warning message:\n",
      "\"package 'ggplot2' was built under R version 4.3.3\"\n"
     ]
    }
   ],
   "source": [
    "library(ggplot2)"
   ]
  },
  {
   "cell_type": "markdown",
   "metadata": {},
   "source": [
    "## Data exploration:"
   ]
  },
  {
   "cell_type": "markdown",
   "metadata": {},
   "source": [
    "### loading the dataset"
   ]
  },
  {
   "cell_type": "code",
   "execution_count": 3,
   "metadata": {
    "vscode": {
     "languageId": "r"
    }
   },
   "outputs": [],
   "source": [
    "data <- read.csv(\"dataset/tunisia-real-estate.csv\",\n",
    "stringsAsFactors = TRUE,\n",
    "header = TRUE, dec = \".\",\n",
    "sep = \",\")"
   ]
  },
  {
   "cell_type": "markdown",
   "metadata": {},
   "source": [
    "### Viewing the structure of the dataset:"
   ]
  },
  {
   "cell_type": "code",
   "execution_count": 26,
   "metadata": {
    "vscode": {
     "languageId": "r"
    }
   },
   "outputs": [
    {
     "data": {
      "text/html": [
       "<style>\n",
       ".list-inline {list-style: none; margin:0; padding: 0}\n",
       ".list-inline>li {display: inline-block}\n",
       ".list-inline>li:not(:last-child)::after {content: \"\\00b7\"; padding: 0 .5ex}\n",
       "</style>\n",
       "<ol class=list-inline><li>'Governorate'</li><li>'Delegation'</li><li>'Locality'</li><li>'Nature'</li><li>'Type.of.Real.Estate'</li><li>'Surface'</li><li>'Price'</li><li>'Inserted.On'</li></ol>\n"
      ],
      "text/latex": [
       "\\begin{enumerate*}\n",
       "\\item 'Governorate'\n",
       "\\item 'Delegation'\n",
       "\\item 'Locality'\n",
       "\\item 'Nature'\n",
       "\\item 'Type.of.Real.Estate'\n",
       "\\item 'Surface'\n",
       "\\item 'Price'\n",
       "\\item 'Inserted.On'\n",
       "\\end{enumerate*}\n"
      ],
      "text/markdown": [
       "1. 'Governorate'\n",
       "2. 'Delegation'\n",
       "3. 'Locality'\n",
       "4. 'Nature'\n",
       "5. 'Type.of.Real.Estate'\n",
       "6. 'Surface'\n",
       "7. 'Price'\n",
       "8. 'Inserted.On'\n",
       "\n",
       "\n"
      ],
      "text/plain": [
       "[1] \"Governorate\"         \"Delegation\"          \"Locality\"           \n",
       "[4] \"Nature\"              \"Type.of.Real.Estate\" \"Surface\"            \n",
       "[7] \"Price\"               \"Inserted.On\"        "
      ]
     },
     "metadata": {},
     "output_type": "display_data"
    },
    {
     "data": {
      "text/html": [
       "<table class=\"dataframe\">\n",
       "<caption>A data.frame: 6 × 8</caption>\n",
       "<thead>\n",
       "\t<tr><th></th><th scope=col>Governorate</th><th scope=col>Delegation</th><th scope=col>Locality</th><th scope=col>Nature</th><th scope=col>Type.of.Real.Estate</th><th scope=col>Surface</th><th scope=col>Price</th><th scope=col>Inserted.On</th></tr>\n",
       "\t<tr><th></th><th scope=col>&lt;fct&gt;</th><th scope=col>&lt;fct&gt;</th><th scope=col>&lt;fct&gt;</th><th scope=col>&lt;fct&gt;</th><th scope=col>&lt;fct&gt;</th><th scope=col>&lt;dbl&gt;</th><th scope=col>&lt;dbl&gt;</th><th scope=col>&lt;dttm&gt;</th></tr>\n",
       "</thead>\n",
       "<tbody>\n",
       "\t<tr><th scope=row>1</th><td>Tunis </td><td>Sidi El Bechir</td><td>Sidi El Bechir</td><td>Sale  </td><td>2-room apartment</td><td> 70</td><td>120000</td><td>NA</td></tr>\n",
       "\t<tr><th scope=row>2</th><td>Sousse</td><td>Akouda        </td><td>Akouda        </td><td>Sale  </td><td>2-room apartment</td><td> 74</td><td>230000</td><td>NA</td></tr>\n",
       "\t<tr><th scope=row>3</th><td>Tunis </td><td>La Marsa      </td><td>La Marsa      </td><td>Rental</td><td>Houses          </td><td>400</td><td>  6500</td><td>NA</td></tr>\n",
       "\t<tr><th scope=row>4</th><td>Tunis </td><td>Carthage      </td><td>Carthage      </td><td>Rental</td><td>Surfaces        </td><td>180</td><td>  1400</td><td>NA</td></tr>\n",
       "\t<tr><th scope=row>5</th><td>Sousse</td><td>Hammam Sousse </td><td>Hammam Sousse </td><td>Sale  </td><td>3-room apartment</td><td>145</td><td>160000</td><td>NA</td></tr>\n",
       "\t<tr><th scope=row>6</th><td>Tunis </td><td>La Marsa      </td><td>La Marsa      </td><td>Rental</td><td>2-room apartment</td><td>120</td><td>  1500</td><td>NA</td></tr>\n",
       "</tbody>\n",
       "</table>\n"
      ],
      "text/latex": [
       "A data.frame: 6 × 8\n",
       "\\begin{tabular}{r|llllllll}\n",
       "  & Governorate & Delegation & Locality & Nature & Type.of.Real.Estate & Surface & Price & Inserted.On\\\\\n",
       "  & <fct> & <fct> & <fct> & <fct> & <fct> & <dbl> & <dbl> & <dttm>\\\\\n",
       "\\hline\n",
       "\t1 & Tunis  & Sidi El Bechir & Sidi El Bechir & Sale   & 2-room apartment &  70 & 120000 & NA\\\\\n",
       "\t2 & Sousse & Akouda         & Akouda         & Sale   & 2-room apartment &  74 & 230000 & NA\\\\\n",
       "\t3 & Tunis  & La Marsa       & La Marsa       & Rental & Houses           & 400 &   6500 & NA\\\\\n",
       "\t4 & Tunis  & Carthage       & Carthage       & Rental & Surfaces         & 180 &   1400 & NA\\\\\n",
       "\t5 & Sousse & Hammam Sousse  & Hammam Sousse  & Sale   & 3-room apartment & 145 & 160000 & NA\\\\\n",
       "\t6 & Tunis  & La Marsa       & La Marsa       & Rental & 2-room apartment & 120 &   1500 & NA\\\\\n",
       "\\end{tabular}\n"
      ],
      "text/markdown": [
       "\n",
       "A data.frame: 6 × 8\n",
       "\n",
       "| <!--/--> | Governorate &lt;fct&gt; | Delegation &lt;fct&gt; | Locality &lt;fct&gt; | Nature &lt;fct&gt; | Type.of.Real.Estate &lt;fct&gt; | Surface &lt;dbl&gt; | Price &lt;dbl&gt; | Inserted.On &lt;dttm&gt; |\n",
       "|---|---|---|---|---|---|---|---|---|\n",
       "| 1 | Tunis  | Sidi El Bechir | Sidi El Bechir | Sale   | 2-room apartment |  70 | 120000 | NA |\n",
       "| 2 | Sousse | Akouda         | Akouda         | Sale   | 2-room apartment |  74 | 230000 | NA |\n",
       "| 3 | Tunis  | La Marsa       | La Marsa       | Rental | Houses           | 400 |   6500 | NA |\n",
       "| 4 | Tunis  | Carthage       | Carthage       | Rental | Surfaces         | 180 |   1400 | NA |\n",
       "| 5 | Sousse | Hammam Sousse  | Hammam Sousse  | Sale   | 3-room apartment | 145 | 160000 | NA |\n",
       "| 6 | Tunis  | La Marsa       | La Marsa       | Rental | 2-room apartment | 120 |   1500 | NA |\n",
       "\n"
      ],
      "text/plain": [
       "  Governorate Delegation     Locality       Nature Type.of.Real.Estate Surface\n",
       "1 Tunis       Sidi El Bechir Sidi El Bechir Sale   2-room apartment     70    \n",
       "2 Sousse      Akouda         Akouda         Sale   2-room apartment     74    \n",
       "3 Tunis       La Marsa       La Marsa       Rental Houses              400    \n",
       "4 Tunis       Carthage       Carthage       Rental Surfaces            180    \n",
       "5 Sousse      Hammam Sousse  Hammam Sousse  Sale   3-room apartment    145    \n",
       "6 Tunis       La Marsa       La Marsa       Rental 2-room apartment    120    \n",
       "  Price  Inserted.On\n",
       "1 120000 <NA>       \n",
       "2 230000 <NA>       \n",
       "3   6500 <NA>       \n",
       "4   1400 <NA>       \n",
       "5 160000 <NA>       \n",
       "6   1500 <NA>       "
      ]
     },
     "metadata": {},
     "output_type": "display_data"
    },
    {
     "data": {
      "text/html": [
       "<style>\n",
       ".list-inline {list-style: none; margin:0; padding: 0}\n",
       ".list-inline>li {display: inline-block}\n",
       ".list-inline>li:not(:last-child)::after {content: \"\\00b7\"; padding: 0 .5ex}\n",
       "</style>\n",
       "<ol class=list-inline><li>25317</li><li>8</li></ol>\n"
      ],
      "text/latex": [
       "\\begin{enumerate*}\n",
       "\\item 25317\n",
       "\\item 8\n",
       "\\end{enumerate*}\n"
      ],
      "text/markdown": [
       "1. 25317\n",
       "2. 8\n",
       "\n",
       "\n"
      ],
      "text/plain": [
       "[1] 25317     8"
      ]
     },
     "metadata": {},
     "output_type": "display_data"
    },
    {
     "name": "stdout",
     "output_type": "stream",
     "text": [
      "'data.frame':\t25317 obs. of  8 variables:\n",
      " $ Governorate        : Factor w/ 24 levels \"Ariana\",\"Beja\",..: 23 20 23 23 20 23 23 1 23 23 ...\n",
      " $ Delegation         : Factor w/ 193 levels \"Agareb\",\"Ain Draham\",..: 169 4 112 26 79 112 48 5 3 115 ...\n",
      " $ Locality           : Factor w/ 193 levels \"Agareb\",\"Ain Draham\",..: 169 4 112 26 79 112 48 5 3 115 ...\n",
      " $ Nature             : Factor w/ 7 levels \"Land\",\"Offices & Shops\",..: 5 5 4 4 5 4 4 5 7 4 ...\n",
      " $ Type.of.Real.Estate: Factor w/ 15 levels \"1-room apartment\",..: 2 2 10 13 3 2 12 8 2 12 ...\n",
      " $ Surface            : num  70 74 400 180 145 ...\n",
      " $ Price              : num  120000 230000 6500 1400 160000 1500 300 570000 150 650 ...\n",
      " $ Inserted.On        : POSIXct, format: NA NA ...\n"
     ]
    }
   ],
   "source": [
    "# View the Column Names\n",
    "names(data)\n",
    "# View the first few rows of the dataset\n",
    "head(data)\n",
    "\n",
    "# View the data Size\n",
    "dim(data)\n",
    "\n",
    "# View the structure of the dataset\n",
    "str(data)"
   ]
  },
  {
   "cell_type": "markdown",
   "metadata": {},
   "source": [
    "## Data cleaning:"
   ]
  },
  {
   "cell_type": "markdown",
   "metadata": {},
   "source": [
    "### Checking for missing values:"
   ]
  },
  {
   "cell_type": "code",
   "execution_count": 5,
   "metadata": {
    "vscode": {
     "languageId": "r"
    }
   },
   "outputs": [
    {
     "data": {
      "text/html": [
       "FALSE"
      ],
      "text/latex": [
       "FALSE"
      ],
      "text/markdown": [
       "FALSE"
      ],
      "text/plain": [
       "[1] FALSE"
      ]
     },
     "metadata": {},
     "output_type": "display_data"
    },
    {
     "data": {
      "text/html": [
       "<style>\n",
       ".dl-inline {width: auto; margin:0; padding: 0}\n",
       ".dl-inline>dt, .dl-inline>dd {float: none; width: auto; display: inline-block}\n",
       ".dl-inline>dt::after {content: \":\\0020\"; padding-right: .5ex}\n",
       ".dl-inline>dt:not(:first-of-type) {padding-left: .5ex}\n",
       "</style><dl class=dl-inline><dt>Governorate</dt><dd>0</dd><dt>Delegation</dt><dd>0</dd><dt>Locality</dt><dd>0</dd><dt>Nature</dt><dd>0</dd><dt>Type.of.Real.Estate</dt><dd>0</dd><dt>Surface</dt><dd>0</dd><dt>Price</dt><dd>0</dd><dt>Inserted.On</dt><dd>0</dd></dl>\n"
      ],
      "text/latex": [
       "\\begin{description*}\n",
       "\\item[Governorate] 0\n",
       "\\item[Delegation] 0\n",
       "\\item[Locality] 0\n",
       "\\item[Nature] 0\n",
       "\\item[Type.of.Real.Estate] 0\n",
       "\\item[Surface] 0\n",
       "\\item[Price] 0\n",
       "\\item[Inserted.On] 0\n",
       "\\end{description*}\n"
      ],
      "text/markdown": [
       "Governorate\n",
       ":   0Delegation\n",
       ":   0Locality\n",
       ":   0Nature\n",
       ":   0Type.of.Real.Estate\n",
       ":   0Surface\n",
       ":   0Price\n",
       ":   0Inserted.On\n",
       ":   0\n",
       "\n"
      ],
      "text/plain": [
       "        Governorate          Delegation            Locality              Nature \n",
       "                  0                   0                   0                   0 \n",
       "Type.of.Real.Estate             Surface               Price         Inserted.On \n",
       "                  0                   0                   0                   0 "
      ]
     },
     "metadata": {},
     "output_type": "display_data"
    }
   ],
   "source": [
    "# Check for missing values in the entire dataset\n",
    "any(is.na(data))\n",
    "\n",
    "# Check for missing values in specific columns\n",
    "colSums(is.na(data))"
   ]
  },
  {
   "cell_type": "markdown",
   "metadata": {},
   "source": [
    "- there is no missing values in the dataset."
   ]
  },
  {
   "cell_type": "markdown",
   "metadata": {},
   "source": [
    "### Checking for duplicates:"
   ]
  },
  {
   "cell_type": "code",
   "execution_count": 6,
   "metadata": {
    "vscode": {
     "languageId": "r"
    }
   },
   "outputs": [],
   "source": [
    "# Check for duplicated rows\n",
    "duplicated_rows <- data[duplicated(data), ]"
   ]
  },
  {
   "cell_type": "markdown",
   "metadata": {},
   "source": [
    "### Rmeoving duplicates:"
   ]
  },
  {
   "cell_type": "code",
   "execution_count": 7,
   "metadata": {
    "vscode": {
     "languageId": "r"
    }
   },
   "outputs": [],
   "source": [
    "# Remove duplicated rows\n",
    "data <- unique(data)"
   ]
  },
  {
   "cell_type": "markdown",
   "metadata": {},
   "source": [
    "### Converting data types:"
   ]
  },
  {
   "cell_type": "code",
   "execution_count": 8,
   "metadata": {
    "vscode": {
     "languageId": "r"
    }
   },
   "outputs": [],
   "source": [
    "# Convert columns to appropriate data types\n",
    "data$Price <- as.numeric(data$Price)\n",
    "# Convert Date/Time columns\n",
    "data$Inserted.On <- as.POSIXct(data$Inserted.On, format = \"%Y-%m-%d %H:%M:%S\")"
   ]
  },
  {
   "cell_type": "markdown",
   "metadata": {},
   "source": [
    "## Descriptive Analysis:"
   ]
  },
  {
   "cell_type": "markdown",
   "metadata": {},
   "source": [
    "### Summary Statistics for Price Variable:"
   ]
  },
  {
   "cell_type": "code",
   "execution_count": 9,
   "metadata": {
    "vscode": {
     "languageId": "r"
    }
   },
   "outputs": [
    {
     "data": {
      "text/plain": [
       "    Min.  1st Qu.   Median     Mean  3rd Qu.     Max. \n",
       "       2     1500   100000   422246   428000 16000000 "
      ]
     },
     "metadata": {},
     "output_type": "display_data"
    }
   ],
   "source": [
    "# Summary statistics for price\n",
    "summary(data$Price)"
   ]
  },
  {
   "cell_type": "markdown",
   "metadata": {},
   "source": [
    "### Summary Statistics for Surface Variable:"
   ]
  },
  {
   "cell_type": "code",
   "execution_count": 10,
   "metadata": {
    "vscode": {
     "languageId": "r"
    }
   },
   "outputs": [
    {
     "data": {
      "text/plain": [
       "    Min.  1st Qu.   Median     Mean  3rd Qu.     Max. \n",
       "       0       90      179     9902      460 32000000 "
      ]
     },
     "metadata": {},
     "output_type": "display_data"
    }
   ],
   "source": [
    "\n",
    "summary(data$Surface)"
   ]
  },
  {
   "cell_type": "markdown",
   "metadata": {},
   "source": [
    "### Frequency Table for Categorical Variables (Governorate, Delegation, Locality):"
   ]
  },
  {
   "cell_type": "code",
   "execution_count": 27,
   "metadata": {
    "vscode": {
     "languageId": "r"
    }
   },
   "outputs": [
    {
     "name": "stdout",
     "output_type": "stream",
     "text": [
      "\n",
      "     Ariana        Beja   Ben arous     Bizerte       Gabes       Gafsa \n",
      "       4605          86        2458         500          54          34 \n",
      "   Jendouba    Kairouan   Kasserine      Kebili      Le Kef      Mahdia \n",
      "         35          18          13           3          69          95 \n",
      "    Manouba    Medenine    Monastir      Nabeul        Sfax Sidi bouzid \n",
      "        512         153         167        5878         452          22 \n",
      "    Siliana      Sousse   Tataouine      Tozeur       Tunis    Zaghouan \n",
      "         25        1378           6           9        8561         184 \n"
     ]
    },
    {
     "name": "stdout",
     "output_type": "stream",
     "text": [
      "\n",
      "           Land Offices & Shops        Purchase          Rental            Sale \n",
      "           4779            1860               2            9338            8966 \n",
      "        Sharing Vacation rental \n",
      "             16             356 \n",
      "\n",
      "         1-room apartment          2-room apartment          3-room apartment \n",
      "                     1716                      2941                      3595 \n",
      "         4-room apartment 5-room apartment and more         Agricultural land \n",
      "                     1909                       489                      1363 \n",
      "        Business property                    Duplex           Free management \n",
      "                      286                       579                        93 \n",
      "                   Houses                    Office                     Other \n",
      "                     5495                       990                       933 \n",
      "                 Surfaces               Vacant land          Workshop, Garage \n",
      "                     1396                      3416                       116 \n"
     ]
    }
   ],
   "source": [
    "# Frequency table for Governorate\n",
    "table_governorate <- table(data$Governorate)\n",
    "print(table_governorate)\n",
    "\n",
    "# Frequency table for Nature\n",
    "table_nature <- table(data$Nature)\n",
    "print(table_nature)\n",
    "\n",
    "# Frequency table for Locality\n",
    "table_type_of_real_estate <- table(data$Type.of.Real.Estate)\n",
    "print(table_type_of_real_estate)"
   ]
  },
  {
   "cell_type": "markdown",
   "metadata": {},
   "source": [
    "## Data Visualization:"
   ]
  },
  {
   "cell_type": "markdown",
   "metadata": {},
   "source": [
    "### Pie Plot for Governorate Variable"
   ]
  },
  {
   "cell_type": "code",
   "execution_count": 16,
   "metadata": {
    "vscode": {
     "languageId": "r"
    }
   },
   "outputs": [
    {
     "data": {
      "image/png": "[encoded data removed]",
      "text/plain": [
       "plot without title"
      ]
     },
     "metadata": {
      "image/png": {
       "height": 600,
       "width": 1080
      }
     },
     "output_type": "display_data"
    }
   ],
   "source": [
    "# Set the default size of plots\n",
    "options(repr.plot.width=18, repr.plot.height=10)\n",
    "\n",
    "# Bar plot for Governorate\n",
    "plot_governorate <- ggplot(data, aes(x = Governorate, y = after_stat(count), fill = Governorate)) +\n",
    "  geom_bar(stat = \"count\", width = 0.9) +\n",
    "  geom_text(stat = 'count', aes(label = ..count..), vjust = -0.5) +\n",
    "  theme(axis.text.x = element_text(hjust = 0.5)) +\n",
    "  ggtitle(\"Frequency of Real Estate Transactions by Governorate\") +\n",
    "  xlab(\"Governorate\") +\n",
    "  ylab(\"Frequency\")\n",
    "\n",
    "plot_governorate\n",
    "\n",
    "# Save the pie chart for Governorate as an image\n",
    "ggsave(\"plots/Frequency of Real Estate Transactions by Governorate.png\", plot_governorate, width = 18, height = 10)"
   ]
  },
  {
   "cell_type": "markdown",
   "metadata": {},
   "source": [
    "- from this plot, we can conclude that the most real estate transactions are done within these four governorates:\n",
    "    - Tunis by 8561\n",
    "    - Nabeul by 5876\n",
    "    - Ariana by 4605\n",
    "    - Ben Arous by 2458\n",
    "> from now on, we will focus our analysis on **these four governorates**."
   ]
  },
  {
   "cell_type": "markdown",
   "metadata": {},
   "source": [
    "### Box Plot for Numerical Variable (Price) by Governorate:"
   ]
  },
  {
   "cell_type": "code",
   "execution_count": 34,
   "metadata": {
    "vscode": {
     "languageId": "r"
    }
   },
   "outputs": [
    {
     "name": "stderr",
     "output_type": "stream",
     "text": [
      "Warning message:\n",
      "\"\u001b[1m\u001b[22mRemoved 818 rows containing non-finite outside the scale range\n",
      "(`stat_boxplot()`).\"\n",
      "Warning message:\n",
      "\"\u001b[1m\u001b[22mRemoved 818 rows containing non-finite outside the scale range\n",
      "(`stat_boxplot()`).\"\n"
     ]
    },
    {
     "data": {
      "image/png": "[encoded data removed]",
      "text/plain": [
       "plot without title"
      ]
     },
     "metadata": {
      "image/png": {
       "height": 600,
       "width": 1080
      }
     },
     "output_type": "display_data"
    }
   ],
   "source": [
    "# making a subset for the mentioned governorates only\n",
    "sub_set = subset(data, Governorate %in% c(\"Tunis\", \"Ben arous\", \"Nabeul\", \"Ariana\"))\n",
    "\n",
    "plot_price <- ggplot(sub_set, aes(x = Governorate, y = Price)) +\n",
    "  geom_boxplot(outlier.shape = 3,  # Use a different shape for outliers\n",
    "               outlier.color = \"red\",  # Use a different color for outliers\n",
    "               fill = \"lightblue\",  # Use a different fill color for the boxes\n",
    "               color = \"black\")+  # Use a different color for the box outlines\n",
    "  ggtitle(\"Price Distribution by Governorate\") +\n",
    "  xlab(\"Governorate\") +\n",
    "  ylab(\"Price\") +\n",
    "  scale_y_continuous(labels = scales::comma, limits = c(0, 2000000)) +\n",
    "  theme(axis.text = element_text(size = 15),\n",
    "        axis.title = element_text(size = 20),\n",
    "        plot.title = element_text(size = 35,hjust = 0.5))\n",
    "\n",
    "plot_price\n",
    "\n",
    "# Save the box plot with custom dimensions\n",
    "ggsave(\"plots/box_plot_price_governorate.png\",\n",
    "plot_price,width = 18, height = 10)\n"
   ]
  },
  {
   "cell_type": "markdown",
   "metadata": {},
   "source": [
    "> Insights:\n",
    "- from this plot we can conclude some few things:\n",
    "    - **Ariana and Ben Arous** : Both have similar price distributions with some outliers, indicating a stable property market.\n",
    "    - **Nabeul** : Exhibits a higher median price with outliers, suggesting a more expensive property market with some very high-priced properties.\n",
    "    - **Tunis** : Has a lower median price but many high-priced outliers, indicating a wide range of property prices."
   ]
  },
  {
   "cell_type": "markdown",
   "metadata": {},
   "source": [
    "### Filtering data only for the specified governorates:"
   ]
  },
  {
   "cell_type": "code",
   "execution_count": 14,
   "metadata": {
    "vscode": {
     "languageId": "r"
    }
   },
   "outputs": [],
   "source": [
    "# Filter data for only the specified Governorates\n",
    "data_tunis <- subset(data, Governorate == \"Tunis\")\n",
    "data_ariana <- subset(data, Governorate == \"Ariana\")\n",
    "data_ben_arous <- subset(data, Governorate == \"Ben arous\")\n",
    "data_Nabeul <- subset(data, Governorate == \"Nabeul\")"
   ]
  },
  {
   "cell_type": "markdown",
   "metadata": {},
   "source": [
    "> now we will start analysing each governorate seperatly"
   ]
  },
  {
   "cell_type": "markdown",
   "metadata": {},
   "source": [
    "### The Governorate of Tunis:"
   ]
  },
  {
   "cell_type": "code",
   "execution_count": null,
   "metadata": {
    "vscode": {
     "languageId": "r"
    }
   },
   "outputs": [],
   "source": []
  }
 ],
 "metadata": {
  "kernelspec": {
   "display_name": "R",
   "language": "R",
   "name": "ir"
  },
  "language_info": {
   "codemirror_mode": "r",
   "file_extension": ".r",
   "mimetype": "text/x-r-source",
   "name": "R",
   "pygments_lexer": "r",
   "version": "4.3.2"
  }
 },
 "nbformat": 4,
 "nbformat_minor": 2
}
